{
  "cells": [
    {
      "cell_type": "markdown",
      "metadata": {
        "id": "view-in-github",
        "colab_type": "text"
      },
      "source": [
        "<a href=\"https://colab.research.google.com/github/Peres2025/bioinsumos-extrator/blob/main/Extrator_Bioinsumos_MAPA_v2.ipynb\" target=\"_parent\"><img src=\"https://colab.research.google.com/assets/colab-badge.svg\" alt=\"Open In Colab\"/></a>"
      ]
    },
    {
      "cell_type": "code",
      "execution_count": 13,
      "metadata": {
        "id": "0rLoPAmiJ5ps"
      },
      "outputs": [],
      "source": [
        "# 🟢 Instalar bibliotecas necessárias!pip install pandas openpyxl requests matplotlib seaborn -q# 🟢 Importar bibliotecasimport requestsimport pandas as pdimport matplotlib.pyplot as pltimport seaborn as snsfrom google.colab import files# 🟢 Configurar URL base da API e parâmetrosurl_base = \"https://api-agroinsumos.agricultura.gov.br/bioinsumos/v1/produto\"params = {\"pagina\": 1, \"quantidade\": 100}todos_os_dados = []# 🟢 Requisições paginadaswhile True:    response = requests.get(url_base, params=params)        if response.status_code != 200:        print(f\"Erro na página {params['pagina']} - Status {response.status_code}\")        break        dados = response.json()    resultados = dados.get(\"listaResultado\", [])        if not resultados:        break        for item in resultados:        todos_os_dados.append({            \"Nome do Produto\": item.get(\"nomeProduto\"),            \"Tipo de Uso\": item.get(\"tipoUso\"),            \"Situação\": item.get(\"situacao\"),            \"Microrganismos\": item.get(\"principioAtivo\", \"Não informado\"),            \"Empresa\": item.get(\"empresa\", {}).get(\"razaoSocial\", \"\"),            \"Número de Registro\": item.get(\"numeroRegistro\"),            \"Detentor do Registro\": item.get(\"detentorRegistro\", {}).get(\"razaoSocial\", \"\"),            \"Estado\": item.get(\"empresa\", {}).get(\"estado\", \"\"),            \"Cidade\": item.get(\"empresa\", {}).get(\"municipio\", \"\"),            \"Contato\": item.get(\"empresa\", {}).get(\"telefone\", \"\"),            \"Email\": item.get(\"empresa\", {}).get(\"email\", \"\"),        })        params[\"pagina\"] += 1# 🟢 Converter para DataFramedf = pd.DataFrame(todos_os_dados)# 🟢 Salvar em Excel e CSV com data atualhoje = datetime.today().strftime('%d_%m_%Y')excel_name = f\"bioinsumos_{hoje}.xlsx\"csv_name = f\"bioinsumos_{hoje}.csv\"df.to_excel(excel_name, index=False)df.to_csv(csv_name, index=False)# 🟢 Gráficos (tipo de uso e estado)plt.figure(figsize=(10,5))sns.countplot(data=df, y=\"Tipo de Uso\", order=df[\"Tipo de Uso\"].value_counts().index)plt.title(\"Distribuição por Tipo de Uso\")plt.xlabel(\"Quantidade\")plt.ylabel(\"Tipo de Uso\")plt.show()plt.figure(figsize=(10,5))sns.countplot(data=df, y=\"Estado\", order=df[\"Estado\"].value_counts().index)plt.title(\"Distribuição por Estado\")plt.xlabel(\"Quantidade\")plt.ylabel(\"Estado\")plt.show()# 🟢 Baixar arquivosfiles.download(excel_name)files.download(csv_name)"
      ]
    }
  ],
  "metadata": {
    "colab": {
      "name": "Extrator_Bioinsumos_MAPA_v2.ipynb",
      "provenance": [],
      "include_colab_link": true
    },
    "kernelspec": {
      "display_name": "Python 3",
      "language": "python",
      "name": "python3"
    },
    "language_info": {
      "name": "python",
      "version": "3.x"
    }
  },
  "nbformat": 4,
  "nbformat_minor": 0
}